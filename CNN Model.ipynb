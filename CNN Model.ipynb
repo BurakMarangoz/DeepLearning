{
 "cells": [
  {
   "cell_type": "code",
   "execution_count": 1,
   "id": "1db50959",
   "metadata": {},
   "outputs": [],
   "source": [
    "import numpy as np\n",
    "import pandas as pd\n",
    "import matplotlib.pyplot as plt\n",
    "import seaborn as sns\n",
    "\n",
    "from keras.models import Sequential\n",
    "from keras.layers import Dense, Conv2D, MaxPooling2D, Flatten"
   ]
  },
  {
   "cell_type": "code",
   "execution_count": 2,
   "id": "12bee43d",
   "metadata": {},
   "outputs": [
    {
     "name": "stdout",
     "output_type": "stream",
     "text": [
      "Model: \"sequential\"\n",
      "_________________________________________________________________\n",
      " Layer (type)                Output Shape              Param #   \n",
      "=================================================================\n",
      " conv2d (Conv2D)             (None, 26, 26, 32)        320       \n",
      "                                                                 \n",
      " max_pooling2d (MaxPooling2D  (None, 13, 13, 32)       0         \n",
      " )                                                               \n",
      "                                                                 \n",
      " conv2d_1 (Conv2D)           (None, 11, 11, 64)        18496     \n",
      "                                                                 \n",
      " max_pooling2d_1 (MaxPooling  (None, 5, 5, 64)         0         \n",
      " 2D)                                                             \n",
      "                                                                 \n",
      " flatten (Flatten)           (None, 1600)              0         \n",
      "                                                                 \n",
      " dense (Dense)               (None, 32)                51232     \n",
      "                                                                 \n",
      " dense_1 (Dense)             (None, 1)                 33        \n",
      "                                                                 \n",
      "=================================================================\n",
      "Total params: 70,081\n",
      "Trainable params: 70,081\n",
      "Non-trainable params: 0\n",
      "_________________________________________________________________\n"
     ]
    }
   ],
   "source": [
    "CNN = Sequential()\n",
    "\n",
    "CNN.add(Conv2D(filters=32,kernel_size=(3,3),input_shape=(28,28,1), activation=\"relu\"))\n",
    "CNN.add(MaxPooling2D(pool_size=(2,2)))\n",
    "\n",
    "CNN.add(Conv2D(filters=64,kernel_size=(3,3),activation=\"relu\"))\n",
    "CNN.add(MaxPooling2D(pool_size=(2,2)))\n",
    "\n",
    "CNN.add(Flatten())\n",
    "\n",
    "CNN.add(Dense(32,activation=\"relu\"))\n",
    "CNN.add(Dense(1,activation=\"softmax\"))\n",
    "\n",
    "CNN.summary()"
   ]
  },
  {
   "cell_type": "code",
   "execution_count": 3,
   "id": "c93da563",
   "metadata": {},
   "outputs": [],
   "source": [
    "from keras.datasets import mnist"
   ]
  },
  {
   "cell_type": "code",
   "execution_count": 4,
   "id": "0b44cc66",
   "metadata": {},
   "outputs": [
    {
     "name": "stdout",
     "output_type": "stream",
     "text": [
      "(60000, 28, 28)\n",
      "(10000, 28, 28)\n"
     ]
    }
   ],
   "source": [
    "(x_train, y_train), (x_test, y_test) = mnist.load_data()\n",
    "\n",
    "print(x_train.shape)\n",
    "print(x_test.shape)"
   ]
  },
  {
   "cell_type": "code",
   "execution_count": 5,
   "id": "1ff58edf",
   "metadata": {},
   "outputs": [
    {
     "data": {
      "image/png": "[encoded data removed]",
      "text/plain": [
       "<Figure size 432x288 with 1 Axes>"
      ]
     },
     "metadata": {
      "needs_background": "light"
     },
     "output_type": "display_data"
    },
    {
     "name": "stdout",
     "output_type": "stream",
     "text": [
      "Label:  4\n"
     ]
    }
   ],
   "source": [
    "plt.imshow(x_train[150])\n",
    "plt.show()\n",
    "\n",
    "print(\"Label: \", y_train[150])"
   ]
  },
  {
   "cell_type": "code",
   "execution_count": 6,
   "id": "0db10602",
   "metadata": {},
   "outputs": [
    {
     "name": "stdout",
     "output_type": "stream",
     "text": [
      "  0  0  0  0  0  0  0  0  0  0  0  0  0  0  0  0  0  0  0  0  0  0  0  0  0  0  0  0\n",
      "  0  0  0  0  0  0  0  0  0  0  0  0  0  0  0  0  0  0  0  0  0  0  0  0  0  0  0  0\n",
      "  0  0  0  0  0  0  0  0  0  0  0  0  0  0  0  0  0  0  0  0  0  0  0  0  0  0  0  0\n",
      "  0  0  0  0  0  0  0  0  0  0  0  0  0  0  0  0  0  0  0  0  0  0  0  0  0  0  0  0\n",
      "  0  0  0  0  0  0  0  0  0  0  0  0  0  0  0  0  0  0  0  0  0  0  0  0  0  0  0  0\n",
      "  0  0  0  0  0  0  0  0  0  0  0  0  0  0  0 19221254 11  0  0  0  0  0  0  0  0  0\n",
      "  0  0  0  0  0  0  0  0  0  0  0  0  0  0  0139253227  8  0  0  0  0  0  0  0  0  0\n",
      "  0  0  0  0  0  0  0  0  0  0  0  0  0  0135254253 63  0  0  0  0  0  0  0  0  0  0\n",
      "  0  0  0  0  0  0  0  0  0  0  0  0  4138252254253 44  0  0  0  0  0  0  0  0  0  0\n",
      "  0  0  0  0  0  0  0  0  0  0  0  3138253253254253 44  0  0  0  0  0  0  0  0  0  0\n",
      "  0  0  0  0  0  0  0  0  0  0 31144253253253254230 29  0  0  0  0  0  0  0  0  0  0\n",
      "  0  0  0  0  0  0  0  0  0 80216253247127224254187  0  0  0  0  0  0  0  0  0  0  0\n",
      "  0  0  0  0  0  0  0  0101219253247 39  0221254168  0  0  0  0  0  0  0  0  0  0  0\n",
      "  0  0  0  0  0  0 21 78246253188 63  0 58245254 77  0  0  0  0  0  0  0  0  0  0  0\n",
      "  0  0  0  0  0 15196253253157 21  0  0127253254 77  0  0  0  0  0 68111 15  0  0  0\n",
      "  0  0  0  0  0193254254245 72 34 34 13189254227 34 34 34 58144197255244 77  0  0  0\n",
      "  0  0  0  0  0107204253253253253253207234253254253253253253253253213 82  0  0  0  0\n",
      "  0  0  0  0  0  0 12 87154219253253253253253254253253245154154 53 17  0  0  0  0  0\n",
      "  0  0  0  0  0  0  0  0  0  7 10112144253253223 10 10 10  0  0  0  0  0  0  0  0  0\n",
      "  0  0  0  0  0  0  0  0  0  0  0  0 16211253221  0  0  0  0  0  0  0  0  0  0  0  0\n",
      "  0  0  0  0  0  0  0  0  0  0  0  0  0188253134  0  0  0  0  0  0  0  0  0  0  0  0\n",
      "  0  0  0  0  0  0  0  0  0  0  0  0 22219253 58  0  0  0  0  0  0  0  0  0  0  0  0\n",
      "  0  0  0  0  0  0  0  0  0  0  0  0 45253253  0  0  0  0  0  0  0  0  0  0  0  0  0\n",
      "  0  0  0  0  0  0  0  0  0  0  0  0 45253253  0  0  0  0  0  0  0  0  0  0  0  0  0\n",
      "  0  0  0  0  0  0  0  0  0  0  0  0  6148205  0  0  0  0  0  0  0  0  0  0  0  0  0\n",
      "  0  0  0  0  0  0  0  0  0  0  0  0  0  0  0  0  0  0  0  0  0  0  0  0  0  0  0  0\n",
      "  0  0  0  0  0  0  0  0  0  0  0  0  0  0  0  0  0  0  0  0  0  0  0  0  0  0  0  0\n",
      "  0  0  0  0  0  0  0  0  0  0  0  0  0  0  0  0  0  0  0  0  0  0  0  0  0  0  0  0\n"
     ]
    }
   ],
   "source": [
    "for row in x_train[150]:\n",
    "    for i in row:\n",
    "        print(\"%3s\" %i, end=\"\")\n",
    "    print()"
   ]
  },
  {
   "cell_type": "code",
   "execution_count": 7,
   "id": "59985fea",
   "metadata": {},
   "outputs": [
    {
     "data": {
      "text/plain": [
       "(60000, 28, 28, 1)"
      ]
     },
     "execution_count": 7,
     "metadata": {},
     "output_type": "execute_result"
    }
   ],
   "source": [
    "x_train = x_train.reshape(60000,28,28,1)\n",
    "x_test = x_test.reshape(10000,28,28,1)\n",
    "\n",
    "x_train.shape"
   ]
  },
  {
   "cell_type": "code",
   "execution_count": 8,
   "id": "7f57945f",
   "metadata": {},
   "outputs": [
    {
     "data": {
      "text/plain": [
       "dtype('uint8')"
      ]
     },
     "execution_count": 8,
     "metadata": {},
     "output_type": "execute_result"
    }
   ],
   "source": [
    "x_train.dtype"
   ]
  },
  {
   "cell_type": "code",
   "execution_count": 9,
   "id": "b802e581",
   "metadata": {},
   "outputs": [
    {
     "data": {
      "text/plain": [
       "dtype('float32')"
      ]
     },
     "execution_count": 9,
     "metadata": {},
     "output_type": "execute_result"
    }
   ],
   "source": [
    "x_train = x_train.astype(\"float32\")\n",
    "x_test = x_test.astype(\"float32\")\n",
    "\n",
    "x_train.dtype"
   ]
  },
  {
   "cell_type": "code",
   "execution_count": 10,
   "id": "847ee1cf",
   "metadata": {},
   "outputs": [],
   "source": [
    "x_train = x_train / 255\n",
    "x_test = x_test / 255"
   ]
  },
  {
   "cell_type": "code",
   "execution_count": 11,
   "id": "7b623f50",
   "metadata": {},
   "outputs": [
    {
     "data": {
      "text/plain": [
       "array([5, 0, 4, ..., 5, 6, 8], dtype=uint8)"
      ]
     },
     "execution_count": 11,
     "metadata": {},
     "output_type": "execute_result"
    }
   ],
   "source": [
    "y_train"
   ]
  },
  {
   "cell_type": "code",
   "execution_count": 12,
   "id": "d18240e7",
   "metadata": {},
   "outputs": [
    {
     "data": {
      "text/plain": [
       "5"
      ]
     },
     "execution_count": 12,
     "metadata": {},
     "output_type": "execute_result"
    }
   ],
   "source": [
    "y_train[0]"
   ]
  },
  {
   "cell_type": "code",
   "execution_count": 13,
   "id": "9095a1a0",
   "metadata": {},
   "outputs": [],
   "source": [
    "from keras.utils import to_categorical"
   ]
  },
  {
   "cell_type": "code",
   "execution_count": 14,
   "id": "ef95f322",
   "metadata": {},
   "outputs": [
    {
     "data": {
      "text/plain": [
       "array([0., 0., 0., 0., 0., 1., 0., 0., 0., 0.], dtype=float32)"
      ]
     },
     "execution_count": 14,
     "metadata": {},
     "output_type": "execute_result"
    }
   ],
   "source": [
    "y_train = to_categorical(y_train,10)\n",
    "y_test = to_categorical(y_test,10)\n",
    "\n",
    "y_train[0]"
   ]
  },
  {
   "cell_type": "code",
   "execution_count": 15,
   "id": "261f3756",
   "metadata": {},
   "outputs": [],
   "source": [
    "from sklearn.model_selection import train_test_split, GridSearchCV\n",
    "from keras.wrappers.scikit_learn import KerasClassifier\n",
    "from keras.optimizers import Adam\n",
    "from keras.layers import Dropout"
   ]
  },
  {
   "cell_type": "code",
   "execution_count": 16,
   "id": "3d35a777",
   "metadata": {},
   "outputs": [],
   "source": [
    "x_train, x_val, y_train, y_val = train_test_split(x_train,y_train,test_size=0.2, random_state=0)"
   ]
  },
  {
   "cell_type": "code",
   "execution_count": 17,
   "id": "7a819159",
   "metadata": {},
   "outputs": [],
   "source": [
    "model = Sequential()\n",
    "\n",
    "model.add(Conv2D(filters=32,kernel_size=(3,3),input_shape=(28,28,1), activation=\"relu\"))\n",
    "model.add(MaxPooling2D(pool_size=(2,2)))\n",
    "\n",
    "model.add(Conv2D(filters=64,kernel_size=(3,3),activation=\"relu\"))\n",
    "model.add(MaxPooling2D(pool_size=(2,2)))\n",
    "\n",
    "model.add(Flatten())\n",
    "\n",
    "model.add(Dense(32,activation=\"relu\"))\n",
    "model.add(Dense(10,activation=\"softmax\"))\n",
    "\n",
    "model.compile(optimizer=\"adam\",loss=\"categorical_crossentropy\",metrics=[\"accuracy\"])\n",
    "\n",
    "result = model.fit(x_train, y_train, validation_data=(x_val,y_val), epochs=5, batch_size=128, verbose=0)"
   ]
  },
  {
   "cell_type": "code",
   "execution_count": 18,
   "id": "d788e37d",
   "metadata": {
    "scrolled": true
   },
   "outputs": [
    {
     "data": {
      "image/png": "[encoded data removed]",
      "text/plain": [
       "<Figure size 1800x720 with 2 Axes>"
      ]
     },
     "metadata": {
      "needs_background": "light"
     },
     "output_type": "display_data"
    }
   ],
   "source": [
    "fig, ax = plt.subplots(1,2, figsize=(25,10))\n",
    "\n",
    "ax[0].plot(result.history[\"loss\"],label=\"Training Loss\")\n",
    "ax[0].plot(result.history[\"val_loss\"], label=\"Validation Loss\")\n",
    "ax[0].set_title(\"Loss Graph\")\n",
    "ax[0].set_xlabel(\"Epochs\")\n",
    "ax[0].set_ylabel(\"Loss\")\n",
    "ax[0].legend()\n",
    "\n",
    "ax[1].plot(result.history[\"accuracy\"],label=\"Training Accuracy\")\n",
    "ax[1].plot(result.history[\"val_accuracy\"], label=\"Validation Accuracy\")\n",
    "ax[1].set_title(\"Accuracy Graph\")\n",
    "ax[1].set_xlabel(\"Epochs\")\n",
    "ax[1].set_ylabel(\"Accuracy\")\n",
    "ax[1].legend()\n",
    "\n",
    "plt.show();"
   ]
  },
  {
   "cell_type": "code",
   "execution_count": 19,
   "id": "63c592fc",
   "metadata": {},
   "outputs": [
    {
     "name": "stderr",
     "output_type": "stream",
     "text": [
      "C:\\Users\\Burak\\AppData\\Local\\Temp\\ipykernel_5348\\3606267085.py:34: DeprecationWarning: KerasClassifier is deprecated, use Sci-Keras (https://github.com/adriangb/scikeras) instead. See https://www.adriangb.com/scikeras/stable/migration.html for help migrating.\n",
      "  clf = KerasClassifier(build_fn=modelkur,verbose=0)\n",
      "Exception ignored in: <function WeakKeyDictionary.__init__.<locals>.remove at 0x000002A01F7CB310>\n",
      "Traceback (most recent call last):\n",
      "  File \"C:\\Anaconda3\\lib\\weakref.py\", line 371, in remove\n",
      "    self = selfref()\n",
      "KeyboardInterrupt: \n",
      "\n",
      "KeyboardInterrupt\n",
      "\n"
     ]
    }
   ],
   "source": [
    "def modelkur(filtre=32, kernel=3, conv_layer=3,dense_layer=2,units=32,learning_rate=0.01,dropout_rate=0.2):\n",
    "    \n",
    "    model = Sequential()\n",
    "    model.add(Conv2D(filters=32,kernel_size=(3,3),input_shape=(28,28,1), activation=\"relu\"))\n",
    "    model.add(MaxPooling2D(pool_size=(2,2)))\n",
    "\n",
    "    for i in range(conv_layer):\n",
    "        model.add(Conv2D(filters=filtre,kernel_size=(kernel,kernel),activation=\"relu\", padding=\"same\"))\n",
    "        model.add(MaxPooling2D(pool_size=(2,2),padding=\"same\"))\n",
    "\n",
    "    model.add(Flatten())\n",
    "    model.add(Dense(32,activation=\"relu\"))\n",
    "\n",
    "    for i in range(dense_layer):\n",
    "        model.add(Dense(units,activation=\"relu\"))\n",
    "        model.add(Dropout(dropout_rate))\n",
    "        \n",
    "        \n",
    "    model.add(Dense(10,activation=\"softmax\"))\n",
    "    model.compile(optimizer=Adam(learning_rate),loss=\"categorical_crossentropy\",metrics=[\"accuracy\"])\n",
    "\n",
    "    return model\n",
    "\n",
    "\n",
    "parametreler = {\"filtre\":       [32,64],\n",
    "                \"kernel\":       [3,5],\n",
    "                \"conv_layer\":   [3,4],\n",
    "                \"dense_layer\":  [2,3],\n",
    "                \"units\":        [32,64],\n",
    "                \"learning_rate\":[0.001,0.01],\n",
    "                \"dropout_rate\": [0.0,0.02],\n",
    "                \"epochs\":       [20,30]}\n",
    "\n",
    "clf = KerasClassifier(build_fn=modelkur,verbose=0)\n",
    "grid = GridSearchCV(estimator=clf,param_grid=parametreler,cv=3)\n",
    "model = grid.fit(x_train,y_train)\n",
    "bestparam = model.best_params_\n",
    "\n",
    "bestmodel = modelkur(filtre=bestparam[\"filtre\"], kernel= bestparam[\"kernel\"],\n",
    "                     conv_layer=bestparam[\"conv_layer\"], dense_layer=bestparam[\"dense_layer\"],\n",
    "                     units=bestparam[\"units\"],learning_rate=bestparam[\"learning_rate\"],\n",
    "                     dropout_rate=bestparam[\"dropout_rate\"])\n",
    "\n",
    "bestmodelx = bestmodel.fit(x_train,y_train,validation_data=(x_val,y_val),epochs=bestparam[\"epochs\"],verbose=0)"
   ]
  },
  {
   "cell_type": "code",
   "execution_count": null,
   "id": "f1133cf1",
   "metadata": {},
   "outputs": [],
   "source": [
    "fig, ax = plt.subplots(1,2, figsize=(25,10))\n",
    "\n",
    "ax[0].plot(bestmodelx.history[\"loss\"],label=\"Training Loss\")\n",
    "ax[0].plot(bestmodelx.history[\"val_loss\"], label=\"Validation Loss\")\n",
    "ax[0].set_title(\"Loss Graph\")\n",
    "ax[0].set_xlabel(\"Epochs\")\n",
    "ax[0].set_ylabel(\"Loss\")\n",
    "ax[0].legend()\n",
    "\n",
    "ax[1].plot(bestmodelx.history[\"accuracy\"],label=\"Training Accuracy\")\n",
    "ax[1].plot(bestmodelx.history[\"val_accuracy\"], label=\"Validation Accuracy\")\n",
    "ax[1].set_title(\"Accuracy Graph\")\n",
    "ax[1].set_xlabel(\"Epochs\")\n",
    "ax[1].set_ylabel(\"Accuracy\")\n",
    "ax[1].legend()\n",
    "\n",
    "plt.show();"
   ]
  },
  {
   "cell_type": "code",
   "execution_count": null,
   "id": "27e0fd95",
   "metadata": {},
   "outputs": [],
   "source": [
    "bestmodel.save(\"modelim.h5\")"
   ]
  },
  {
   "cell_type": "code",
   "execution_count": null,
   "id": "a00133a6",
   "metadata": {},
   "outputs": [],
   "source": [
    "from keras.models import load_model\n",
    "\n",
    "\n",
    "model = load_model(\"modelim.h5\")\n",
    "\n",
    "\n",
    "fig, ax = plt.subplots(1,2, figsize=(25,10))\n",
    "\n",
    "ax[0].plot(model.history[\"loss\"],label=\"Training Loss\")\n",
    "ax[0].plot(model.history[\"val_loss\"], label=\"Validation Loss\")\n",
    "ax[0].set_title(\"Loss Graph\")\n",
    "ax[0].set_xlabel(\"Epochs\")\n",
    "ax[0].set_ylabel(\"Loss\")\n",
    "ax[0].legend()\n",
    "\n",
    "ax[1].plot(model.history[\"accuracy\"],label=\"Training Accuracy\")\n",
    "ax[1].plot(model.history[\"val_accuracy\"], label=\"Validation Accuracy\")\n",
    "ax[1].set_title(\"Accuracy Graph\")\n",
    "ax[1].set_xlabel(\"Epochs\")\n",
    "ax[1].set_ylabel(\"Accuracy\")\n",
    "ax[1].legend()\n",
    "\n",
    "plt.show();"
   ]
  },
  {
   "cell_type": "code",
   "execution_count": null,
   "id": "aaeb677d",
   "metadata": {},
   "outputs": [],
   "source": [
    "tahmin= model.predict(x_test)\n",
    "\n",
    "i = 40\n",
    "\n",
    "plt.imshow(x_test[i].reshape(28,28), cmap=\"gray\")\n",
    "plt.title(f\"Gerçek etiket: {y_test[i]} \\n Tahmin Etiket: {np.argmax(tahmin[i])}\")\n",
    "plt.show();"
   ]
  }
 ],
 "metadata": {
  "kernelspec": {
   "display_name": "Python 3 (ipykernel)",
   "language": "python",
   "name": "python3"
  },
  "language_info": {
   "codemirror_mode": {
    "name": "ipython",
    "version": 3
   },
   "file_extension": ".py",
   "mimetype": "text/x-python",
   "name": "python",
   "nbconvert_exporter": "python",
   "pygments_lexer": "ipython3",
   "version": "3.9.12"
  }
 },
 "nbformat": 4,
 "nbformat_minor": 5
}
