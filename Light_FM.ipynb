{
  "nbformat": 4,
  "nbformat_minor": 0,
  "metadata": {
    "colab": {
      "provenance": []
    },
    "kernelspec": {
      "name": "python3",
      "display_name": "Python 3"
    },
    "language_info": {
      "name": "python"
    }
  },
  "cells": [
    {
      "cell_type": "code",
      "execution_count": 1,
      "metadata": {
        "colab": {
          "base_uri": "https://localhost:8080/"
        },
        "id": "CMaABHlijdVx",
        "outputId": "57a876c7-6958-42cc-c748-45003b6ea4a9"
      },
      "outputs": [
        {
          "output_type": "stream",
          "name": "stdout",
          "text": [
            "Looking in indexes: https://pypi.org/simple, https://us-python.pkg.dev/colab-wheels/public/simple/\n",
            "Collecting lightfm\n",
            "  Downloading lightfm-1.16.tar.gz (310 kB)\n",
            "\u001b[2K     \u001b[90m━━━━━━━━━━━━━━━━━━━━━━━━━━━━━━━━━━━━━━━\u001b[0m \u001b[32m310.1/310.1 KB\u001b[0m \u001b[31m6.8 MB/s\u001b[0m eta \u001b[36m0:00:00\u001b[0m\n",
            "\u001b[?25h  Preparing metadata (setup.py) ... \u001b[?25l\u001b[?25hdone\n",
            "Requirement already satisfied: numpy in /usr/local/lib/python3.9/dist-packages (from lightfm) (1.22.4)\n",
            "Requirement already satisfied: scipy>=0.17.0 in /usr/local/lib/python3.9/dist-packages (from lightfm) (1.10.1)\n",
            "Requirement already satisfied: requests in /usr/local/lib/python3.9/dist-packages (from lightfm) (2.27.1)\n",
            "Requirement already satisfied: scikit-learn in /usr/local/lib/python3.9/dist-packages (from lightfm) (1.2.2)\n",
            "Requirement already satisfied: urllib3<1.27,>=1.21.1 in /usr/local/lib/python3.9/dist-packages (from requests->lightfm) (1.26.15)\n",
            "Requirement already satisfied: charset-normalizer~=2.0.0 in /usr/local/lib/python3.9/dist-packages (from requests->lightfm) (2.0.12)\n",
            "Requirement already satisfied: certifi>=2017.4.17 in /usr/local/lib/python3.9/dist-packages (from requests->lightfm) (2022.12.7)\n",
            "Requirement already satisfied: idna<4,>=2.5 in /usr/local/lib/python3.9/dist-packages (from requests->lightfm) (3.4)\n",
            "Requirement already satisfied: joblib>=1.1.1 in /usr/local/lib/python3.9/dist-packages (from scikit-learn->lightfm) (1.1.1)\n",
            "Requirement already satisfied: threadpoolctl>=2.0.0 in /usr/local/lib/python3.9/dist-packages (from scikit-learn->lightfm) (3.1.0)\n",
            "Building wheels for collected packages: lightfm\n",
            "  Building wheel for lightfm (setup.py) ... \u001b[?25l\u001b[?25hdone\n",
            "  Created wheel for lightfm: filename=lightfm-1.16-cp39-cp39-linux_x86_64.whl size=895277 sha256=3e014daf77a87cb923dd83d023a2aee09f7bd200211987dfec50cf0f9417dd4b\n",
            "  Stored in directory: /root/.cache/pip/wheels/d7/75/52/e42e5f9cd86d4902a352aff4dadde75ec041af713ffcf3ed05\n",
            "Successfully built lightfm\n",
            "Installing collected packages: lightfm\n",
            "Successfully installed lightfm-1.16\n"
          ]
        }
      ],
      "source": [
        "pip install lightfm"
      ]
    },
    {
      "cell_type": "code",
      "source": [
        "import pandas as pd\n",
        "import numpy as np\n",
        "from lightfm import LightFM\n",
        "from lightfm.datasets import fetch_movielens"
      ],
      "metadata": {
        "id": "ZvaG7eXnji4x"
      },
      "execution_count": 2,
      "outputs": []
    },
    {
      "cell_type": "code",
      "source": [
        "from lightfm.evaluation import precision_at_k"
      ],
      "metadata": {
        "id": "OeAcwhHDkw23"
      },
      "execution_count": 4,
      "outputs": []
    },
    {
      "cell_type": "code",
      "source": [
        "data = fetch_movielens()\n",
        "data"
      ],
      "metadata": {
        "colab": {
          "base_uri": "https://localhost:8080/"
        },
        "id": "naeTcazij2Og",
        "outputId": "0cf1bf44-5185-41ca-8d50-efe1a850f3a7"
      },
      "execution_count": 3,
      "outputs": [
        {
          "output_type": "execute_result",
          "data": {
            "text/plain": [
              "{'train': <943x1682 sparse matrix of type '<class 'numpy.int32'>'\n",
              " \twith 90570 stored elements in COOrdinate format>,\n",
              " 'test': <943x1682 sparse matrix of type '<class 'numpy.int32'>'\n",
              " \twith 9430 stored elements in COOrdinate format>,\n",
              " 'item_features': <1682x1682 sparse matrix of type '<class 'numpy.float32'>'\n",
              " \twith 1682 stored elements in Compressed Sparse Row format>,\n",
              " 'item_feature_labels': array(['Toy Story (1995)', 'GoldenEye (1995)', 'Four Rooms (1995)', ...,\n",
              "        'Sliding Doors (1998)', 'You So Crazy (1994)',\n",
              "        'Scream of Stone (Schrei aus Stein) (1991)'], dtype=object),\n",
              " 'item_labels': array(['Toy Story (1995)', 'GoldenEye (1995)', 'Four Rooms (1995)', ...,\n",
              "        'Sliding Doors (1998)', 'You So Crazy (1994)',\n",
              "        'Scream of Stone (Schrei aus Stein) (1991)'], dtype=object)}"
            ]
          },
          "metadata": {},
          "execution_count": 3
        }
      ]
    },
    {
      "cell_type": "code",
      "source": [
        "model = LightFM(loss=\"warp\")\n",
        "model.fit(data[\"train\"],item_features=data[\"item_features\"])\n",
        "perf = precision_at_k(model,data[\"test\"],k=5).mean()\n",
        "perf"
      ],
      "metadata": {
        "colab": {
          "base_uri": "https://localhost:8080/"
        },
        "id": "MOde5xyckARL",
        "outputId": "21a4a3ca-14fe-4442-b56c-9fcd976d4c73"
      },
      "execution_count": 7,
      "outputs": [
        {
          "output_type": "execute_result",
          "data": {
            "text/plain": [
              "0.11283139"
            ]
          },
          "metadata": {},
          "execution_count": 7
        }
      ]
    },
    {
      "cell_type": "code",
      "source": [
        "kullanıcısay,itemsay = data[\"train\"].shape"
      ],
      "metadata": {
        "id": "kRXkveyXlALQ"
      },
      "execution_count": 8,
      "outputs": []
    },
    {
      "cell_type": "code",
      "source": [
        "kullanıcısay"
      ],
      "metadata": {
        "colab": {
          "base_uri": "https://localhost:8080/"
        },
        "id": "dffWccDKlfN8",
        "outputId": "2de70d40-6e08-44da-c72e-8cc12a4ff8c0"
      },
      "execution_count": 9,
      "outputs": [
        {
          "output_type": "execute_result",
          "data": {
            "text/plain": [
              "943"
            ]
          },
          "metadata": {},
          "execution_count": 9
        }
      ]
    },
    {
      "cell_type": "code",
      "source": [
        "itemsay\n"
      ],
      "metadata": {
        "colab": {
          "base_uri": "https://localhost:8080/"
        },
        "id": "XJ5GqFY_lgtZ",
        "outputId": "354af40a-c0e8-494a-bd3f-280b73831367"
      },
      "execution_count": 10,
      "outputs": [
        {
          "output_type": "execute_result",
          "data": {
            "text/plain": [
              "1682"
            ]
          },
          "metadata": {},
          "execution_count": 10
        }
      ]
    },
    {
      "cell_type": "code",
      "source": [
        "kullanıcıgorus = data[\"item_labels\"][data[\"train\"].tocsr()[2].indices]\n",
        "kullanıcıgorus"
      ],
      "metadata": {
        "colab": {
          "base_uri": "https://localhost:8080/"
        },
        "id": "ijg6aqbiljTu",
        "outputId": "dfd5722c-9249-46fc-b149-81b5aaca3cf2"
      },
      "execution_count": 11,
      "outputs": [
        {
          "output_type": "execute_result",
          "data": {
            "text/plain": [
              "array(['Return of the Jedi (1983)', 'Contact (1997)',\n",
              "       'Event Horizon (1997)', 'Mimic (1997)', 'Chasing Amy (1997)',\n",
              "       'Starship Troopers (1997)', 'Good Will Hunting (1997)',\n",
              "       'Scream (1996)', 'Hoodlum (1997)', 'Air Force One (1997)',\n",
              "       'L.A. Confidential (1997)', \"Ulee's Gold (1997)\",\n",
              "       \"Devil's Advocate, The (1997)\", 'In the Name of the Father (1993)',\n",
              "       \"Schindler's List (1993)\", 'Everyone Says I Love You (1996)',\n",
              "       'Paradise Lost: The Child Murders at Robin Hood Hills (1996)',\n",
              "       'Mother (1996)', 'Murder at 1600 (1997)', 'Lost Highway (1997)',\n",
              "       'Crash (1996)', 'G.I. Jane (1997)', 'Cop Land (1997)',\n",
              "       'Desperate Measures (1998)', '187 (1997)', 'Game, The (1997)',\n",
              "       'Playing God (1997)', 'Bean (1997)', 'Mad City (1997)',\n",
              "       'Boogie Nights (1997)', 'Critical Care (1997)',\n",
              "       'Man Who Knew Too Little, The (1997)', 'Apostle, The (1997)',\n",
              "       'Deconstructing Harry (1997)', 'Jackie Brown (1997)',\n",
              "       'Wag the Dog (1997)', 'Desperate Measures (1998)',\n",
              "       'Hard Rain (1998)', 'Fallen (1998)', 'Prophecy II, The (1998)',\n",
              "       'Spice World (1997)', 'Deep Rising (1998)',\n",
              "       'Wedding Singer, The (1998)', 'Sphere (1998)'], dtype=object)"
            ]
          },
          "metadata": {},
          "execution_count": 11
        }
      ]
    },
    {
      "cell_type": "code",
      "source": [
        "skor = model.predict(2,np.arange(itemsay))\n",
        "skor"
      ],
      "metadata": {
        "colab": {
          "base_uri": "https://localhost:8080/"
        },
        "id": "PaEJZsRKlzzC",
        "outputId": "d2719e27-3b3d-4f6f-a99a-11b31835ff5f"
      },
      "execution_count": 13,
      "outputs": [
        {
          "output_type": "execute_result",
          "data": {
            "text/plain": [
              "array([ 0.35578552, -0.6851542 , -0.36024058, ..., -1.3784508 ,\n",
              "       -1.372375  , -1.532093  ], dtype=float32)"
            ]
          },
          "metadata": {},
          "execution_count": 13
        }
      ]
    },
    {
      "cell_type": "code",
      "source": [
        "eniyiskor = data[\"item_labels\"][np.argsort(-skor)]\n",
        "eniyiskor"
      ],
      "metadata": {
        "colab": {
          "base_uri": "https://localhost:8080/"
        },
        "id": "1f36tcF5l5hE",
        "outputId": "fa5c63df-627c-484d-8801-a91e2d25e7e6"
      },
      "execution_count": 14,
      "outputs": [
        {
          "output_type": "execute_result",
          "data": {
            "text/plain": [
              "array(['English Patient, The (1996)', 'Air Force One (1997)',\n",
              "       'Scream (1996)', ...,\n",
              "       'Death in the Garden (Mort en ce jardin, La) (1956)',\n",
              "       'North (1994)', 'Man of the House (1995)'], dtype=object)"
            ]
          },
          "metadata": {},
          "execution_count": 14
        }
      ]
    },
    {
      "cell_type": "code",
      "source": [
        "def oneri(model,data,kullanıcıidler):\n",
        "  kullanıcısay,itemsay = data[\"train\"].shape\n",
        "  for i in kullanıcıidler:\n",
        "    kullanıcıgorus =  data[\"item_labels\"][data[\"train\"].tocsr()[i].indices]\n",
        "\n",
        "    skor = model.predict(i,np.arange(itemsay))\n",
        "    eniyiskor = data[\"item_labels\"][np.argsort(-skor)]\n",
        "    print(f\"Kullanıcı: {i}\")\n",
        "    print(\" \")\n",
        "    print(\"En sevdiği filmler:\")\n",
        "    for j in kullanıcıgorus[:3]:\n",
        "      print(f\"     {j}\")\n",
        "    print(\" \")\n",
        "    print(\"Önerilen filmler:\")\n",
        "    for k in eniyiskor[:3]:\n",
        "      print(f\"     {k}\")\n",
        "    print(\"-----------------------------\")\n",
        "oneri(model,data,[1,100,500])"
      ],
      "metadata": {
        "colab": {
          "base_uri": "https://localhost:8080/"
        },
        "id": "6ZgFf_jGmNu3",
        "outputId": "40541bae-7f51-495c-ff4d-33ad0c73f567"
      },
      "execution_count": 18,
      "outputs": [
        {
          "output_type": "stream",
          "name": "stdout",
          "text": [
            "Kullanıcı: 1\n",
            " \n",
            "En sevdiği filmler:\n",
            "     Toy Story (1995)\n",
            "     Richard III (1995)\n",
            "     Postino, Il (1994)\n",
            " \n",
            "Önerilen filmler:\n",
            "     English Patient, The (1996)\n",
            "     Contact (1997)\n",
            "     Scream (1996)\n",
            "-----------------------------\n",
            "Kullanıcı: 100\n",
            " \n",
            "En sevdiği filmler:\n",
            "     Toy Story (1995)\n",
            "     Twelve Monkeys (1995)\n",
            "     Rumble in the Bronx (1995)\n",
            " \n",
            "Önerilen filmler:\n",
            "     Independence Day (ID4) (1996)\n",
            "     Star Wars (1977)\n",
            "     Toy Story (1995)\n",
            "-----------------------------\n",
            "Kullanıcı: 500\n",
            " \n",
            "En sevdiği filmler:\n",
            "     Twelve Monkeys (1995)\n",
            "     Mighty Aphrodite (1995)\n",
            "     Rumble in the Bronx (1995)\n",
            " \n",
            "Önerilen filmler:\n",
            "     Star Wars (1977)\n",
            "     Toy Story (1995)\n",
            "     Independence Day (ID4) (1996)\n",
            "-----------------------------\n"
          ]
        }
      ]
    },
    {
      "cell_type": "code",
      "source": [],
      "metadata": {
        "id": "Wd7useJmnrsA"
      },
      "execution_count": null,
      "outputs": []
    }
  ]
}